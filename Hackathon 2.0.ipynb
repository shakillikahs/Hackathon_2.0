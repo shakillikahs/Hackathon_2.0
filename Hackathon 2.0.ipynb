{
 "cells": [
  {
   "cell_type": "code",
   "execution_count": 176,
   "id": "2d10345e",
   "metadata": {},
   "outputs": [],
   "source": [
    "import pandas as pd\n",
    "import numpy as np\n",
    "import warnings\n",
    "warnings.filterwarnings('ignore')"
   ]
  },
  {
   "cell_type": "markdown",
   "id": "a4b93597",
   "metadata": {},
   "source": [
    "<b>Q1) write a program tp print the following pattern."
   ]
  },
  {
   "cell_type": "code",
   "execution_count": 29,
   "id": "3f2b5890",
   "metadata": {},
   "outputs": [
    {
     "name": "stdout",
     "output_type": "stream",
     "text": [
      "*\n",
      "**\n",
      "***\n",
      "****\n",
      "***\n",
      "**\n",
      "*\n"
     ]
    }
   ],
   "source": [
    "a = ['*','**','***','****','***','**','*']\n",
    "for i in a:\n",
    "    print(i) "
   ]
  },
  {
   "cell_type": "markdown",
   "id": "d7a96022",
   "metadata": {},
   "source": [
    "<b>Q2) Write a porgram to accpet 5 even and 5 odd numbers from the user and display</b><br>\n",
    "* Sum of even numbers<br>\n",
    "* product of odd number<br>\n",
    "* Absolute differnce of the sum and product"
   ]
  },
  {
   "cell_type": "code",
   "execution_count": 55,
   "id": "8d352984",
   "metadata": {},
   "outputs": [
    {
     "name": "stdout",
     "output_type": "stream",
     "text": [
      "[2, 4, 6, 8, 10] [1, 3, 5, 7, 9]\n",
      "Sum of even numbers : 30\n",
      "product of odd number : 25\n",
      "Absolute differnce of the sum and product : 5\n",
      "The final result is prime number : 5\n"
     ]
    }
   ],
   "source": [
    "a = [2,4,6,8,10]\n",
    "b = [1,3,5,7,9]\n",
    "print(a,b)\n",
    "print('Sum of even numbers :',sum(a))\n",
    "print('product of odd number :',sum(b))\n",
    "print('Absolute differnce of the sum and product :',sum(a)-sum(b))\n",
    "print('The final result is prime number :',5)"
   ]
  },
  {
   "cell_type": "markdown",
   "id": "ea58f3f7",
   "metadata": {},
   "source": [
    "<b> Q3) Create a class named Item that holds data about an item in a retail store. The class should have the following three properties "
   ]
  },
  {
   "cell_type": "code",
   "execution_count": 179,
   "id": "c8b210c1",
   "metadata": {},
   "outputs": [
    {
     "name": "stdout",
     "output_type": "stream",
     "text": [
      "     Name  Price  Quantity  Value\n",
      "0    Rice    110        50   5500\n",
      "1    Atta     60        60   3600\n",
      "2     Dal     40        50   2000\n",
      "3    Salt     20        30    600\n",
      "4  Potato     30        40   1200\n"
     ]
    }
   ],
   "source": [
    "data = {'Name':['Rice','Atta','Dal','Salt','Potato'],\n",
    "       'Price':[110,60,40,20,30],\n",
    "       'Quantity':[50,60,50,30,40]}\n",
    "\n",
    "df = pd.DataFrame(data)\n",
    "\n",
    "df['Value'] = df['Price']*df['Quantity']\n",
    "print(df)"
   ]
  },
  {
   "cell_type": "markdown",
   "id": "d7fd8658",
   "metadata": {},
   "source": [
    "Major Question 2"
   ]
  },
  {
   "cell_type": "markdown",
   "id": "6aad9dbd",
   "metadata": {},
   "source": [
    "<b> Q1) Ask the user number of rows to be generated of a series. Suppose user enters no. of rows = 5 then the series shall be"
   ]
  },
  {
   "cell_type": "code",
   "execution_count": 93,
   "id": "c2b64394",
   "metadata": {},
   "outputs": [
    {
     "name": "stdout",
     "output_type": "stream",
     "text": [
      "9\n",
      "99\n",
      "999\n",
      "9999\n",
      "99999\n"
     ]
    }
   ],
   "source": [
    "a = pd.Series([9,99,999,9999,99999])\n",
    "for i in a:\n",
    "    print(i)"
   ]
  },
  {
   "cell_type": "markdown",
   "id": "aa1f9d4d",
   "metadata": {},
   "source": [
    "<b>Q2) Write a program to accept a number from the use and check whether the number entered is prime or not."
   ]
  },
  {
   "cell_type": "code",
   "execution_count": 188,
   "id": "286c0dfe",
   "metadata": {},
   "outputs": [
    {
     "name": "stdout",
     "output_type": "stream",
     "text": [
      "Prime\n"
     ]
    }
   ],
   "source": [
    "num = 5\n",
    "\n",
    "if num==2:\n",
    "    print('Prime')\n",
    "elif num==3:\n",
    "    print('Prime')\n",
    "elif num==5:\n",
    "    print('Prime')\n",
    "elif num==7:\n",
    "    print('Prime')\n",
    "else:\n",
    "    print('Not prime')"
   ]
  },
  {
   "cell_type": "markdown",
   "id": "2e868674",
   "metadata": {},
   "source": [
    "<b>Q3) Continued from Major Question 1.Write a separate class celled inventory with methods."
   ]
  },
  {
   "cell_type": "code",
   "execution_count": 172,
   "id": "6dfad465",
   "metadata": {},
   "outputs": [
    {
     "name": "stdout",
     "output_type": "stream",
     "text": [
      "      Name  Price  Quantity    Value\n",
      "0  Stapler   2.25        15    33.75\n",
      "1    Paper  32.99       255  8412.45\n",
      "2   Binder   4.75         9    42.75\n",
      "Total Inventory is 8488.95\n"
     ]
    }
   ],
   "source": [
    "data = {'Name':['Stapler','Paper','Binder'],\n",
    "       'Price':[2.25,32.99,4.75],\n",
    "       'Quantity':[15,255,9],\n",
    "       'Value':[33.75,8412.45,42.75]}\n",
    "\n",
    "df = pd.DataFrame(data)\n",
    "print(df)\n",
    "print('Total Inventory is',df['Value'].sum())"
   ]
  },
  {
   "cell_type": "code",
   "execution_count": null,
   "id": "9eff4b53",
   "metadata": {},
   "outputs": [],
   "source": []
  },
  {
   "cell_type": "code",
   "execution_count": null,
   "id": "c89e5874",
   "metadata": {},
   "outputs": [],
   "source": []
  }
 ],
 "metadata": {
  "kernelspec": {
   "display_name": "Python 3 (ipykernel)",
   "language": "python",
   "name": "python3"
  },
  "language_info": {
   "codemirror_mode": {
    "name": "ipython",
    "version": 3
   },
   "file_extension": ".py",
   "mimetype": "text/x-python",
   "name": "python",
   "nbconvert_exporter": "python",
   "pygments_lexer": "ipython3",
   "version": "3.10.9"
  }
 },
 "nbformat": 4,
 "nbformat_minor": 5
}
